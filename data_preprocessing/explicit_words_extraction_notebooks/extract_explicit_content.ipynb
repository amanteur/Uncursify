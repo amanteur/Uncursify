{
 "cells": [
  {
   "cell_type": "code",
   "execution_count": 1,
   "id": "16f0f974",
   "metadata": {},
   "outputs": [],
   "source": [
    "import pandas as pd\n",
    "import os\n",
    "import librosa\n",
    "import matplotlib.pyplot as plt\n",
    "import numpy as np\n",
    "from IPython.display import display, Audio\n",
    "import linmdtw\n",
    "import warnings\n",
    "warnings.filterwarnings(\"ignore\")\n",
    "import IPython.display as ipd\n",
    "import time\n",
    "import pydub\n",
    "import pyloudnorm as pyln\n",
    "import soundfile as sf\n",
    "from tqdm import tqdm"
   ]
  },
  {
   "cell_type": "markdown",
   "id": "80507045",
   "metadata": {},
   "source": [
    "# get df"
   ]
  },
  {
   "cell_type": "code",
   "execution_count": 2,
   "id": "fdf8aede",
   "metadata": {},
   "outputs": [],
   "source": [
    "csv_path = \"D:\\projects\\ProfanityFilter\\explicits\\youtube_links_new.txt\"\n",
    "df = pd.read_csv(csv_path, \n",
    "                 names=[\"uri\", \"ytid\", \"ytid_clean\", \"dur_yt\", \"dur_yt_clean\"])"
   ]
  },
  {
   "cell_type": "code",
   "execution_count": 3,
   "id": "9205a60b",
   "metadata": {},
   "outputs": [],
   "source": [
    "df = df.drop_duplicates(subset=[\"ytid\"])\n",
    "df = df.drop_duplicates(subset=[\"ytid_clean\"])\n",
    "df = df.drop_duplicates(subset=[\"uri\"])\n",
    "df = df.dropna()"
   ]
  },
  {
   "cell_type": "code",
   "execution_count": 4,
   "id": "0caae188",
   "metadata": {},
   "outputs": [
    {
     "data": {
      "text/html": [
       "<div>\n",
       "<style scoped>\n",
       "    .dataframe tbody tr th:only-of-type {\n",
       "        vertical-align: middle;\n",
       "    }\n",
       "\n",
       "    .dataframe tbody tr th {\n",
       "        vertical-align: top;\n",
       "    }\n",
       "\n",
       "    .dataframe thead th {\n",
       "        text-align: right;\n",
       "    }\n",
       "</style>\n",
       "<table border=\"1\" class=\"dataframe\">\n",
       "  <thead>\n",
       "    <tr style=\"text-align: right;\">\n",
       "      <th></th>\n",
       "      <th>uri</th>\n",
       "      <th>ytid</th>\n",
       "      <th>ytid_clean</th>\n",
       "      <th>dur_yt</th>\n",
       "      <th>dur_yt_clean</th>\n",
       "    </tr>\n",
       "  </thead>\n",
       "  <tbody>\n",
       "    <tr>\n",
       "      <th>0</th>\n",
       "      <td>spotify:track:3JvKfv6T31zO0ini8iNItO</td>\n",
       "      <td>9i_OWaiaF34</td>\n",
       "      <td>8vN0EMCjjP0</td>\n",
       "      <td>244.0</td>\n",
       "      <td>242.0</td>\n",
       "    </tr>\n",
       "    <tr>\n",
       "      <th>1</th>\n",
       "      <td>spotify:track:7lQ8MOhq6IN2w8EYcFNSUk</td>\n",
       "      <td>pyb13N80DZQ</td>\n",
       "      <td>6iUeFGPWHz0</td>\n",
       "      <td>291.0</td>\n",
       "      <td>290.0</td>\n",
       "    </tr>\n",
       "    <tr>\n",
       "      <th>2</th>\n",
       "      <td>spotify:track:3yfqSUWxFvZELEM4PmlwIR</td>\n",
       "      <td>BdfpV-cIkuA</td>\n",
       "      <td>L0V6jKCZ370</td>\n",
       "      <td>284.0</td>\n",
       "      <td>284.0</td>\n",
       "    </tr>\n",
       "    <tr>\n",
       "      <th>3</th>\n",
       "      <td>spotify:track:5TXDeTFVRVY7Cvt0Dw4vWW</td>\n",
       "      <td>CD_tD26E7k0</td>\n",
       "      <td>Ro32sQudsrY</td>\n",
       "      <td>121.0</td>\n",
       "      <td>120.0</td>\n",
       "    </tr>\n",
       "    <tr>\n",
       "      <th>4</th>\n",
       "      <td>spotify:track:7KA4W4McWYRpgf0fWsJZWB</td>\n",
       "      <td>1_OMDlzbIuM</td>\n",
       "      <td>AhvkKR0ero8</td>\n",
       "      <td>181.0</td>\n",
       "      <td>181.0</td>\n",
       "    </tr>\n",
       "    <tr>\n",
       "      <th>...</th>\n",
       "      <td>...</td>\n",
       "      <td>...</td>\n",
       "      <td>...</td>\n",
       "      <td>...</td>\n",
       "      <td>...</td>\n",
       "    </tr>\n",
       "    <tr>\n",
       "      <th>13179</th>\n",
       "      <td>spotify:track:3Q8JrzlwciRk3j8M8UFQvr</td>\n",
       "      <td>LWycFKbNl9c</td>\n",
       "      <td>XnOrV_Bhnv0</td>\n",
       "      <td>206.0</td>\n",
       "      <td>206.0</td>\n",
       "    </tr>\n",
       "    <tr>\n",
       "      <th>13205</th>\n",
       "      <td>spotify:track:7FbfvVLCqraAf8iPG67cwn</td>\n",
       "      <td>AsHtIbOuBaw</td>\n",
       "      <td>AsHtIbOuBaw</td>\n",
       "      <td>177.0</td>\n",
       "      <td>177.0</td>\n",
       "    </tr>\n",
       "    <tr>\n",
       "      <th>13219</th>\n",
       "      <td>spotify:track:3rbuetJnPXr4ecigGVBDBo</td>\n",
       "      <td>Bw_yUjNZ4bI</td>\n",
       "      <td>dmhBewedJwg</td>\n",
       "      <td>206.0</td>\n",
       "      <td>205.0</td>\n",
       "    </tr>\n",
       "    <tr>\n",
       "      <th>13223</th>\n",
       "      <td>spotify:track:06K4y898EOm1CkKUwPOgNo</td>\n",
       "      <td>cVYtEUnqW_M</td>\n",
       "      <td>ungpJtM7-wg</td>\n",
       "      <td>192.0</td>\n",
       "      <td>189.0</td>\n",
       "    </tr>\n",
       "    <tr>\n",
       "      <th>13228</th>\n",
       "      <td>spotify:track:0RCKo1nnB3uimhhYiza2qF</td>\n",
       "      <td>XtGll30u_k0</td>\n",
       "      <td>Qa0-xWgqfdA</td>\n",
       "      <td>206.0</td>\n",
       "      <td>203.0</td>\n",
       "    </tr>\n",
       "  </tbody>\n",
       "</table>\n",
       "<p>2345 rows × 5 columns</p>\n",
       "</div>"
      ],
      "text/plain": [
       "                                        uri         ytid   ytid_clean  dur_yt  \\\n",
       "0      spotify:track:3JvKfv6T31zO0ini8iNItO  9i_OWaiaF34  8vN0EMCjjP0   244.0   \n",
       "1      spotify:track:7lQ8MOhq6IN2w8EYcFNSUk  pyb13N80DZQ  6iUeFGPWHz0   291.0   \n",
       "2      spotify:track:3yfqSUWxFvZELEM4PmlwIR  BdfpV-cIkuA  L0V6jKCZ370   284.0   \n",
       "3      spotify:track:5TXDeTFVRVY7Cvt0Dw4vWW  CD_tD26E7k0  Ro32sQudsrY   121.0   \n",
       "4      spotify:track:7KA4W4McWYRpgf0fWsJZWB  1_OMDlzbIuM  AhvkKR0ero8   181.0   \n",
       "...                                     ...          ...          ...     ...   \n",
       "13179  spotify:track:3Q8JrzlwciRk3j8M8UFQvr  LWycFKbNl9c  XnOrV_Bhnv0   206.0   \n",
       "13205  spotify:track:7FbfvVLCqraAf8iPG67cwn  AsHtIbOuBaw  AsHtIbOuBaw   177.0   \n",
       "13219  spotify:track:3rbuetJnPXr4ecigGVBDBo  Bw_yUjNZ4bI  dmhBewedJwg   206.0   \n",
       "13223  spotify:track:06K4y898EOm1CkKUwPOgNo  cVYtEUnqW_M  ungpJtM7-wg   192.0   \n",
       "13228  spotify:track:0RCKo1nnB3uimhhYiza2qF  XtGll30u_k0  Qa0-xWgqfdA   206.0   \n",
       "\n",
       "       dur_yt_clean  \n",
       "0             242.0  \n",
       "1             290.0  \n",
       "2             284.0  \n",
       "3             120.0  \n",
       "4             181.0  \n",
       "...             ...  \n",
       "13179         206.0  \n",
       "13205         177.0  \n",
       "13219         205.0  \n",
       "13223         189.0  \n",
       "13228         203.0  \n",
       "\n",
       "[2345 rows x 5 columns]"
      ]
     },
     "execution_count": 4,
     "metadata": {},
     "output_type": "execute_result"
    }
   ],
   "source": [
    "df"
   ]
  },
  {
   "cell_type": "markdown",
   "id": "3bb2a50d",
   "metadata": {},
   "source": [
    "# Iterate over df"
   ]
  },
  {
   "cell_type": "markdown",
   "id": "a0458e69",
   "metadata": {},
   "source": [
    "## funcs"
   ]
  },
  {
   "cell_type": "code",
   "execution_count": 5,
   "id": "6dee8d47",
   "metadata": {},
   "outputs": [],
   "source": [
    "from pydub.effects import normalize\n",
    "\n",
    "def normalize(y, sr, peak=None, loud_peak=None):\n",
    "    if peak is not None:\n",
    "        norm_y = pyln.normalize.peak(y, peak)\n",
    "    elif loud_peak is not None:\n",
    "        meter = pyln.Meter(sr) # create BS.1770 meter\n",
    "        loudness = meter.integrated_loudness(y)\n",
    "        norm_y = pyln.normalize.loudness(y, loudness, loud_peak)\n",
    "    return norm_y\n",
    "\n",
    "def sync_audios(pathE, pathC, sr, hop_length, use_gpu=False, default_dtw=False, trim=False):\n",
    "    xE, sr = linmdtw.load_audio(pathE, sr)\n",
    "    xC, sr = linmdtw.load_audio(pathC, sr)\n",
    "    if trim:\n",
    "        xE, _ = librosa.effects.trim(xE)\n",
    "        xC, _ = librosa.effects.trim(xC)\n",
    "    xE = normalize(xE, sr, peak=-12)\n",
    "    xC = normalize(xC, sr, peak=-12)\n",
    "    # plt.plot(xC, alpha=0.2)\n",
    "    # plt.plot(xE, alpha=0.2)\n",
    "    plt.show()\n",
    "    XE = linmdtw.get_mfcc_mod(xE, sr, hop_length)\n",
    "    XC = linmdtw.get_mfcc_mod(xC, sr, hop_length)\n",
    "    # metadata = {\n",
    "    #     'totalCells':0, \n",
    "    #     'M':XE.shape[0], \n",
    "    #     'N':XC.shape[0], \n",
    "    #     'timeStart':time.time(), \n",
    "    #     'perc':10\n",
    "    # }\n",
    "    if default_dtw:\n",
    "        print(\"Doing default DTW\")\n",
    "        D, path = librosa.sequence.dtw(XE.T, XC.T, subseq=True)\n",
    "        path = path[::-1]\n",
    "    else:\n",
    "        # path = linmdtw.linmdtw(XE, XC, do_gpu=use_gpu, metadata=metadata)\n",
    "        path = linmdtw.linmdtw(XE, XC, do_gpu=use_gpu)\n",
    "    xsync = linmdtw.stretch_audio(xE, xC, sr, path, hop_length)\n",
    "    return xsync\n",
    "\n",
    "def search_timestamps(\n",
    "    xsync, sr, hop_length, \n",
    "    n_stds=5, \n",
    "    threshold_max=0.95,\n",
    "    mask_threshold_step=0.01, \n",
    "    timestamps_threshold=2,\n",
    "    top_explicits=8,\n",
    "    cut_by_sides=0.15,\n",
    "):\n",
    "    XEsync = linmdtw.get_mfcc_mod(xsync[:, 0], sr, hop_length)\n",
    "    XCsync = linmdtw.get_mfcc_mod(xsync[:, 1], sr, hop_length)\n",
    "\n",
    "    diff = np.abs(XEsync - XCsync)\n",
    "    mean_diff = diff.max(axis=1)\n",
    "    mean_diff = (mean_diff - mean_diff.min())/(mean_diff.max() - mean_diff.min())\n",
    "    # mean_diff = (mean_diff - mean_diff.mean())/mean_diff.std()\n",
    "    # mean_diff[mean_diff < 0] = 0\n",
    "    if cut_by_sides is not None:\n",
    "        cut  = int(cut_by_sides* mean_diff.shape[0])\n",
    "        mean_diff[:cut] = 0\n",
    "        mean_diff[-cut:] = 0\n",
    "    mask_threshold = min(mean_diff.mean() + n_stds*mean_diff.std(), mean_diff.max() - 0.05)\n",
    "    # plt.plot(mean_diff)\n",
    "    # plt.axhline(mask_threshold, c='r')\n",
    "    # plt.show()\n",
    "    timestamps = [0]*1000\n",
    "    while len(timestamps) >= top_explicits:\n",
    "        mask = (mean_diff > mask_threshold).astype(np.int)\n",
    "        indices = np.nonzero(mask)[0]\n",
    "        if len(indices) == 0:\n",
    "            return prev_timestamps\n",
    "        where_explicit = librosa.times_like(XEsync.T, sr=sr, hop_length=hop_length)[indices]\n",
    "\n",
    "        timestamps = merge_indices(\n",
    "            (where_explicit*sr).astype(np.int), \n",
    "            timestamps_threshold, \n",
    "            sr\n",
    "        )  \n",
    "        mask_threshold += mask_threshold_step\n",
    "        prev_timestamps = timestamps\n",
    "    return timestamps\n",
    "    \n",
    "def merge_indices(indices, threshold=2, sr=16000):\n",
    "    if len(indices) == 1:\n",
    "        return [(indices[0], indices[0])]\n",
    "    thr = threshold * sr\n",
    "    p1 = 0\n",
    "    timestamps = []\n",
    "    for i in range(1, len(indices)):\n",
    "        if indices[i] - indices[i - 1] <= thr:\n",
    "            continue\n",
    "        else:\n",
    "            timestamps.append((indices[p1], indices[i-1]))\n",
    "            p1 = i\n",
    "    timestamps.append((indices[p1], indices[i]))\n",
    "    return timestamps"
   ]
  },
  {
   "cell_type": "code",
   "execution_count": 30,
   "id": "201f0d52-836c-44a8-83d5-27935697157f",
   "metadata": {},
   "outputs": [],
   "source": [
    "def save_timestamps(\n",
    "    row, \n",
    "    timestamps,\n",
    "    audio,\n",
    "    sr=16000,\n",
    "    txt_path = \"D:\\projects\\ProfanityFilter\\explicits\\csvs\\\\timestamps.txt\",\n",
    "    ts_dir = \"D:\\projects\\ProfanityFilter\\data\\\\aligned_explicit\"\n",
    "):\n",
    "    with open(txt_path, 'a') as wf:\n",
    "        for i, (l, r) in enumerate(timestamps):\n",
    "            # writing txt\n",
    "            line = f\"{row.uri},{i},{l},{r}\\n\"\n",
    "            wf.write(line)\n",
    "            \n",
    "            # writing data\n",
    "            l -= sr // 2\n",
    "            r += sr // 2\n",
    "            fname = f\"{row.uri.rsplit(':', 1)[-1]}.wav\"\n",
    "            fpath = os.path.join(ts_dir, fname)\n",
    "            # sf.write(fpath, audio[l:r, 0], samplerate=16000)\n",
    "            sf.write(fpath, audio[:, 0], samplerate=16000)            "
   ]
  },
  {
   "cell_type": "markdown",
   "id": "0b58cd8c",
   "metadata": {},
   "source": [
    "## main"
   ]
  },
  {
   "cell_type": "code",
   "execution_count": 31,
   "id": "b2af0409",
   "metadata": {},
   "outputs": [],
   "source": [
    "dirE = \"D:\\projects\\ProfanityFilter\\data\\\\wav16k\\explicit\"\n",
    "dirC = \"D:\\projects\\ProfanityFilter\\data\\\\wav16k\\clean\"\n",
    "\n",
    "sr=16000\n",
    "hop_length=4000\n"
   ]
  },
  {
   "cell_type": "code",
   "execution_count": null,
   "id": "530f67b7",
   "metadata": {},
   "outputs": [
    {
     "name": "stderr",
     "output_type": "stream",
     "text": [
      "  3%|███▍                                                                                                          | 74/2345 [05:08<3:10:33,  5.03s/it]"
     ]
    },
    {
     "name": "stdout",
     "output_type": "stream",
     "text": [
      "could not broadcast input array from shape (3516565,) into shape (3514880,)\n"
     ]
    },
    {
     "name": "stderr",
     "output_type": "stream",
     "text": [
      "  8%|█████████                                                                                                    | 194/2345 [14:11<3:01:04,  5.05s/it]"
     ]
    },
    {
     "name": "stdout",
     "output_type": "stream",
     "text": [
      "could not broadcast input array from shape (3453631,) into shape (3450880,)\n"
     ]
    },
    {
     "name": "stderr",
     "output_type": "stream",
     "text": [
      " 15%|████████████████▏                                                                                            | 347/2345 [23:07<1:32:04,  2.76s/it]"
     ]
    },
    {
     "name": "stdout",
     "output_type": "stream",
     "text": [
      "Audio buffer is not finite everywhere\n"
     ]
    },
    {
     "name": "stderr",
     "output_type": "stream",
     "text": [
      " 16%|█████████████████▊                                                                                           | 383/2345 [24:52<2:06:58,  3.88s/it]"
     ]
    },
    {
     "name": "stdout",
     "output_type": "stream",
     "text": [
      "could not broadcast input array from shape (4487478,) into shape (4488704,)\n"
     ]
    },
    {
     "name": "stderr",
     "output_type": "stream",
     "text": [
      " 21%|██████████████████████▋                                                                                      | 488/2345 [30:34<2:05:18,  4.05s/it]"
     ]
    },
    {
     "name": "stdout",
     "output_type": "stream",
     "text": [
      "could not broadcast input array from shape (3903600,) into shape (3907072,)\n"
     ]
    },
    {
     "name": "stderr",
     "output_type": "stream",
     "text": [
      " 22%|███████████████████████▌                                                                                     | 508/2345 [31:46<1:55:55,  3.79s/it]"
     ]
    },
    {
     "name": "stdout",
     "output_type": "stream",
     "text": [
      "could not broadcast input array from shape (3305695,) into shape (3309056,)\n"
     ]
    },
    {
     "name": "stderr",
     "output_type": "stream",
     "text": [
      " 22%|███████████████████████▋                                                                                     | 509/2345 [31:52<2:15:22,  4.42s/it]"
     ]
    },
    {
     "name": "stdout",
     "output_type": "stream",
     "text": [
      "could not broadcast input array from shape (4494381,) into shape (4492800,)\n"
     ]
    },
    {
     "name": "stderr",
     "output_type": "stream",
     "text": [
      " 25%|███████████████████████████▍                                                                                 | 590/2345 [37:36<2:20:56,  4.82s/it]"
     ]
    },
    {
     "name": "stdout",
     "output_type": "stream",
     "text": [
      "could not broadcast input array from shape (2972578,) into shape (2975232,)\n"
     ]
    },
    {
     "name": "stderr",
     "output_type": "stream",
     "text": [
      " 26%|████████████████████████████▌                                                                                | 614/2345 [39:40<2:35:04,  5.38s/it]"
     ]
    },
    {
     "name": "stdout",
     "output_type": "stream",
     "text": [
      "could not broadcast input array from shape (4236541,) into shape (4221098,)\n"
     ]
    },
    {
     "name": "stderr",
     "output_type": "stream",
     "text": [
      " 28%|██████████████████████████████                                                                               | 648/2345 [42:19<2:11:25,  4.65s/it]"
     ]
    },
    {
     "name": "stdout",
     "output_type": "stream",
     "text": [
      "could not broadcast input array from shape (3510485,) into shape (3576426,)\n"
     ]
    },
    {
     "name": "stderr",
     "output_type": "stream",
     "text": [
      " 28%|██████████████████████████████▍                                                                              | 654/2345 [42:44<1:50:07,  3.91s/it]"
     ]
    },
    {
     "name": "stdout",
     "output_type": "stream",
     "text": [
      "could not broadcast input array from shape (3038506,) into shape (3045044,)\n"
     ]
    },
    {
     "name": "stderr",
     "output_type": "stream",
     "text": [
      " 29%|███████████████████████████████▏                                                                             | 670/2345 [43:46<2:10:01,  4.66s/it]"
     ]
    },
    {
     "name": "stdout",
     "output_type": "stream",
     "text": [
      "could not broadcast input array from shape (3850365,) into shape (3861408,)\n"
     ]
    },
    {
     "name": "stderr",
     "output_type": "stream",
     "text": [
      " 33%|████████████████████████████████████▍                                                                        | 785/2345 [53:22<2:46:40,  6.41s/it]"
     ]
    },
    {
     "name": "stdout",
     "output_type": "stream",
     "text": [
      "could not broadcast input array from shape (2886852,) into shape (2888608,)\n"
     ]
    },
    {
     "name": "stderr",
     "output_type": "stream",
     "text": [
      " 34%|████████████████████████████████████▌                                                                        | 786/2345 [53:33<3:19:41,  7.69s/it]"
     ]
    },
    {
     "name": "stdout",
     "output_type": "stream",
     "text": [
      "could not broadcast input array from shape (4160449,) into shape (4182016,)\n"
     ]
    },
    {
     "name": "stderr",
     "output_type": "stream",
     "text": [
      " 36%|██████████████████████████████████████▌                                                                    | 846/2345 [1:00:12<3:09:20,  7.58s/it]"
     ]
    },
    {
     "name": "stdout",
     "output_type": "stream",
     "text": [
      "could not broadcast input array from shape (3984266,) into shape (3991204,)\n"
     ]
    },
    {
     "name": "stderr",
     "output_type": "stream",
     "text": [
      " 37%|███████████████████████████████████████▎                                                                   | 861/2345 [1:01:33<2:01:55,  4.93s/it]"
     ]
    }
   ],
   "source": [
    "for idx, row in tqdm(df.iterrows(), total=len(df)):\n",
    "    pathE = os.path.join(dirE, f\"{row.ytid}.wav\")\n",
    "    pathC = os.path.join(dirC, f\"{row.ytid_clean}.wav\")\n",
    "    # sync\n",
    "    try:\n",
    "        xsync = sync_audios(pathE, pathC, sr, hop_length)\n",
    "    except Exception as e:\n",
    "        try:\n",
    "            xsync = sync_audios(pathE, pathC, sr, hop_length, trim=True)\n",
    "        except Exception as e:\n",
    "            print(e)\n",
    "            continue\n",
    "    # search\n",
    "    # timestamps = search_timestamps(xsync, sr, hop_length)\n",
    "    # if len(timestamps) > 0 :\n",
    "    save_timestamps(row, timestamps, xsync)\n",
    "    # else:\n",
    "        # print(\"Nothing found\")"
   ]
  },
  {
   "cell_type": "code",
   "execution_count": null,
   "id": "cad800d4-39c1-4481-a17c-247de1129df3",
   "metadata": {},
   "outputs": [],
   "source": []
  }
 ],
 "metadata": {
  "kernelspec": {
   "display_name": "Python 3 (ipykernel)",
   "language": "python",
   "name": "python3"
  },
  "language_info": {
   "codemirror_mode": {
    "name": "ipython",
    "version": 3
   },
   "file_extension": ".py",
   "mimetype": "text/x-python",
   "name": "python",
   "nbconvert_exporter": "python",
   "pygments_lexer": "ipython3",
   "version": "3.7.6"
  }
 },
 "nbformat": 4,
 "nbformat_minor": 5
}
