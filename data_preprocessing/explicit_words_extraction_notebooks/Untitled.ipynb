{
 "cells": [
  {
   "cell_type": "code",
   "execution_count": 14,
   "id": "f7ce4c96",
   "metadata": {},
   "outputs": [],
   "source": [
    "import os\n",
    "from tqdm import tqdm\n",
    "\n",
    "expl_dir = \"D:\\projects\\ProfanityFilter\\data\\\\raw_mp3\\explicit\"\n",
    "clean_dir = \"D:\\projects\\ProfanityFilter\\data\\\\raw_mp3\\clean\"\n",
    "\n",
    "tgt_expl_dir = \"D:\\projects\\ProfanityFilter\\data\\wav16k\\explicit\"\n",
    "tgt_clean_dir = \"D:\\projects\\ProfanityFilter\\data\\wav16k\\clean\"\n",
    "\n",
    "def run(src_dir, tgt_dir):\n",
    "    for f in tqdm(os.listdir(src_dir)):\n",
    "        os.system(f\"ffmpeg -i {src_dir}\\\\{f} -acodec pcm_s16le -ac 1 -ar 16000 {tgt_dir}\\\\{f[:-4]}.wav\")"
   ]
  },
  {
   "cell_type": "code",
   "execution_count": 15,
   "id": "97844ce1",
   "metadata": {},
   "outputs": [
    {
     "name": "stderr",
     "output_type": "stream",
     "text": [
      "100%|██████████████████████████████████████████████████████████████████████████████████████████████████████████████| 2350/2350 [38:08<00:00,  1.03it/s]\n"
     ]
    }
   ],
   "source": [
    "run(expl_dir, tgt_expl_dir)"
   ]
  },
  {
   "cell_type": "code",
   "execution_count": null,
   "id": "90025d29",
   "metadata": {},
   "outputs": [],
   "source": [
    "run(clean_dir, tgt_clean_dir)"
   ]
  }
 ],
 "metadata": {
  "kernelspec": {
   "display_name": "Python 3 (ipykernel)",
   "language": "python",
   "name": "python3"
  },
  "language_info": {
   "codemirror_mode": {
    "name": "ipython",
    "version": 3
   },
   "file_extension": ".py",
   "mimetype": "text/x-python",
   "name": "python",
   "nbconvert_exporter": "python",
   "pygments_lexer": "ipython3",
   "version": "3.7.6"
  }
 },
 "nbformat": 4,
 "nbformat_minor": 5
}
