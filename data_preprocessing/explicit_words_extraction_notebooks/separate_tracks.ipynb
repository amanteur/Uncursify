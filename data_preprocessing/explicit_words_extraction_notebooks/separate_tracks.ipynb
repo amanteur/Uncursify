{
 "cells": [
  {
   "cell_type": "code",
   "execution_count": 21,
   "id": "81fe34fe-86df-4183-896e-a14f8f2466c2",
   "metadata": {},
   "outputs": [],
   "source": [
    "import os\n",
    "from tqdm import tqdm\n",
    "from pathlib import Path\n",
    "import shutil"
   ]
  },
  {
   "cell_type": "code",
   "execution_count": 23,
   "id": "48e08dba-e6e7-45b6-94cd-73eaf2491123",
   "metadata": {},
   "outputs": [
    {
     "name": "stderr",
     "output_type": "stream",
     "text": [
      "100%|██████████████████████████████████████████████████████████████████████████████████████████████████████████████████| 20/20 [00:13<00:00,  1.51it/s]\n"
     ]
    }
   ],
   "source": [
    "mdir = \"D:\\projects\\ProfanityFilter\\data\\explicit_phrases\\\\\"\n",
    "tgtdir = \"D:\\projects\\ProfanityFilter\\data\\explicit_phrases_vocals\"\n",
    "separated_path = \"./separated/mdx_extra_q\"\n",
    "\n",
    "for d in tqdm(os.listdir(mdir)):\n",
    "    sdir = os.path.join(mdir, d)\n",
    "    for f in os.listdir(sdir):\n",
    "        path = Path(os.path.join(sdir, f))\n",
    "        name = path.stem\n",
    "        src_vocal_path = os.path.join(separated_path, name, 'vocals.wav') \n",
    "        tgt_vocal_dir = sdir.replace(\"explicit_phrases\", \"explicit_phrases_vocals\")\n",
    "        os.makedirs(tgt_vocal_dir, exist_ok=True)\n",
    "        tgt_vocal_path = os.path.join(tgt_vocal_dir, f\"{name}.wav\")\n",
    "        assert os.path.isfile(src_vocal_path) \n",
    "        \n",
    "        shutil.copy(src_vocal_path, tgt_vocal_path)"
   ]
  },
  {
   "cell_type": "code",
   "execution_count": 28,
   "id": "ac85eaf4-a56a-48e7-a696-b51932e172c1",
   "metadata": {},
   "outputs": [
    {
     "name": "stderr",
     "output_type": "stream",
     "text": [
      "100%|██████████████████████████████████████████████████████████████████████████████████████████████████████████████████| 20/20 [01:03<00:00,  3.19s/it]\n"
     ]
    }
   ],
   "source": [
    "for d in tqdm(os.listdir(tgtdir)):\n",
    "    sdir = os.path.join(tgtdir, d)\n",
    "    for f in os.listdir(sdir):\n",
    "        src_vocal_path = os.path.join(sdir, f) \n",
    "        tgt_vocal_dir = sdir.replace(\"explicit_phrases_vocals\", \"explicit_phrases_vocals_16k\")\n",
    "        os.makedirs(tgt_vocal_dir, exist_ok=True)\n",
    "        tgt_vocal_path = os.path.join(tgt_vocal_dir, f)\n",
    "        os.system(f\"ffmpeg -i {src_vocal_path} -ar 16000 {tgt_vocal_path}\")"
   ]
  },
  {
   "cell_type": "code",
   "execution_count": 30,
   "id": "f819fb25-7f40-4abc-8f71-6f4b52140b6d",
   "metadata": {},
   "outputs": [
    {
     "data": {
      "text/plain": [
       "16000"
      ]
     },
     "execution_count": 30,
     "metadata": {},
     "output_type": "execute_result"
    }
   ],
   "source": [
    "import librosa\n",
    "y, sr = librosa.load(\"D:/projects\\ProfanityFilter/data/explicit_phrases_vocals_16k/ass/0wasgXy8PI6t4EfA49YnXE_0.wav\", sr=None)\n",
    "sr"
   ]
  },
  {
   "cell_type": "code",
   "execution_count": null,
   "id": "1fd5d389-f2e4-4a15-8ff1-2fbb597142fc",
   "metadata": {},
   "outputs": [],
   "source": []
  }
 ],
 "metadata": {
  "kernelspec": {
   "display_name": "Python 3 (ipykernel)",
   "language": "python",
   "name": "python3"
  },
  "language_info": {
   "codemirror_mode": {
    "name": "ipython",
    "version": 3
   },
   "file_extension": ".py",
   "mimetype": "text/x-python",
   "name": "python",
   "nbconvert_exporter": "python",
   "pygments_lexer": "ipython3",
   "version": "3.7.6"
  }
 },
 "nbformat": 4,
 "nbformat_minor": 5
}
