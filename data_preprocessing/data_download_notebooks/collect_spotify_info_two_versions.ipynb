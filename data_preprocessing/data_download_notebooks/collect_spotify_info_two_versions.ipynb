{
 "cells": [
  {
   "cell_type": "code",
   "execution_count": 9,
   "id": "1988d85f",
   "metadata": {},
   "outputs": [],
   "source": [
    "import os\n",
    "import matplotlib.pyplot\n",
    "import pandas as pd\n",
    "import json\n",
    "from glob import glob\n",
    "from tqdm import tqdm\n",
    "import spotipy\n",
    "from spotipy.oauth2 import SpotifyClientCredentials\n",
    "import requests\n",
    "import json\n",
    "from urllib.error import HTTPError\n",
    "import re\n",
    "tqdm.pandas()\n",
    "\n",
    "my_client_id = '4e9cf9cac4224e51b29649eb1ed2b916'\n",
    "my_secret = '39313a32359e4963aa309b38b46c83fc'\n",
    "\n",
    "aslan_client_id = '7e5000408e924c139e2f9ec522b3a012'\n",
    "aslan_secret = '0ff1dc59346749068311a782ce80f7ca'\n",
    "\n",
    "beka_client_id = 'fe22241e50584325acafcafc80a77adc'\n",
    "beka_secret = 'e94196def67c46179f130e1800d134a6'"
   ]
  },
  {
   "cell_type": "code",
   "execution_count": 10,
   "id": "13d20f85",
   "metadata": {},
   "outputs": [
    {
     "name": "stdout",
     "output_type": "stream",
     "text": [
      "env: SPOTIPY_CLIENT_ID=fe22241e50584325acafcafc80a77adc\n",
      "env: SPOTIPY_CLIENT_SECRET=e94196def67c46179f130e1800d134a6\n"
     ]
    }
   ],
   "source": [
    "%env SPOTIPY_CLIENT_ID=fe22241e50584325acafcafc80a77adc\n",
    "%env SPOTIPY_CLIENT_SECRET=e94196def67c46179f130e1800d134a6"
   ]
  },
  {
   "cell_type": "code",
   "execution_count": 11,
   "id": "1ba1076f",
   "metadata": {},
   "outputs": [
    {
     "data": {
      "text/plain": [
       "'fe22241e50584325acafcafc80a77adc'"
      ]
     },
     "execution_count": 11,
     "metadata": {},
     "output_type": "execute_result"
    }
   ],
   "source": [
    "%env SPOTIPY_CLIENT_ID"
   ]
  },
  {
   "cell_type": "code",
   "execution_count": 12,
   "id": "8905d8db",
   "metadata": {},
   "outputs": [
    {
     "data": {
      "text/plain": [
       "'e94196def67c46179f130e1800d134a6'"
      ]
     },
     "execution_count": 12,
     "metadata": {},
     "output_type": "execute_result"
    }
   ],
   "source": [
    "%env SPOTIPY_CLIENT_SECRET"
   ]
  },
  {
   "cell_type": "code",
   "execution_count": 13,
   "id": "fefaedbd",
   "metadata": {},
   "outputs": [],
   "source": [
    "csv_path = \"D:\\projects\\ProfanityFilter\\explicits\\songs_info_explicit.csv\"\n",
    "df = pd.read_csv(csv_path)\n",
    "sp = spotipy.Spotify(\n",
    "    auth_manager=SpotifyClientCredentials(\n",
    "    ),\n",
    "    requests_timeout=20, \n",
    "    retries=10\n",
    ")"
   ]
  },
  {
   "cell_type": "code",
   "execution_count": 14,
   "id": "217969c7",
   "metadata": {},
   "outputs": [],
   "source": [
    "def find_last_idx(\n",
    "    savepath=\"D:\\projects\\ProfanityFilter\\explicits\\explicits_with_two_versions.txt\"\n",
    "):\n",
    "    if os.path.isfile(savepath) and len(open(savepath).readlines()) > 0:\n",
    "        idx = open(savepath).readlines()[-1].split(\",\")[0]\n",
    "        return int(idx)\n",
    "    else:\n",
    "        return 0\n",
    "\n",
    "def filter_clean_version(expl_info, results):\n",
    "    expl_artists = set(expl_info.artists_uri.split(\"|\"))\n",
    "    expl_dur = ''\n",
    "    clean_dur = ''\n",
    "    clean_uri = ''\n",
    "    has_clean_version = False\n",
    "    \n",
    "    if \"tracks\" in results and \"items\" in results[\"tracks\"]:\n",
    "        res = results[\"tracks\"][\"items\"]\n",
    "        for el in res:\n",
    "            if el[\"uri\"] == expl_info.uri:\n",
    "                expl_dur = el[\"duration_ms\"]\n",
    "                break\n",
    "            else:\n",
    "                expl_dur = ''\n",
    "#         assert expl_dur != '', results # get expl_dur additionally\n",
    "        \n",
    "        for el in res:\n",
    "            clean_artists = set()\n",
    "            if not el[\"explicit\"]:\n",
    "                # filter by same artists\n",
    "                for ar in el[\"artists\"]:\n",
    "                    clean_artists.add(ar[\"uri\"])\n",
    "                if clean_artists == expl_artists:\n",
    "                    # filter by same length\n",
    "                    clean_dur = el[\"duration_ms\"]\n",
    "                    has_clean_version = True\n",
    "                    clean_uri = el[\"uri\"]\n",
    "                    break\n",
    "    if expl_info.popularity >= 80:\n",
    "        has_clean_version = True\n",
    "    return f\"{expl_info.uri},{has_clean_version},{clean_uri},{expl_dur},{clean_dur}\\n\"\n",
    "\n",
    "def search_clean_version(row):\n",
    "    expl_title = row.title\n",
    "    expl_artist = row.artist\n",
    "    try:\n",
    "        results = sp.search(q=f\"{expl_artist} {expl_title}\", type=\"track\")\n",
    "    except spotipy.SpotifyException as err:\n",
    "        if err.code == -1:\n",
    "            try:\n",
    "                expl_title = re.sub(r'\\-.*$', '', expl_title)\n",
    "                results = sp.search(q=f\"{expl_artist} {expl_title}\", type=\"track\")\n",
    "            except:\n",
    "                return f'{row.uri},False,,,\\n'\n",
    "        else:\n",
    "            raise err\n",
    "    return filter_clean_version(row, results)"
   ]
  },
  {
   "cell_type": "code",
   "execution_count": 15,
   "id": "a99b4d08",
   "metadata": {},
   "outputs": [
    {
     "data": {
      "text/plain": [
       "31122"
      ]
     },
     "execution_count": 15,
     "metadata": {},
     "output_type": "execute_result"
    }
   ],
   "source": [
    "savepath=\"D:\\projects\\ProfanityFilter\\explicits\\explicits_with_two_versions.txt\"\n",
    "last_uri = open(savepath).read().splitlines()[-1].split(\",\")[0]\n",
    "start = df[df.uri==last_uri].index.item()\n",
    "start"
   ]
  },
  {
   "cell_type": "code",
   "execution_count": 16,
   "id": "ac4ba896",
   "metadata": {},
   "outputs": [
    {
     "name": "stderr",
     "output_type": "stream",
     "text": [
      " 76%|███████████████████████████████████████████████████████████████████████████████████▍                          | 6775/8931 [42:06<22:07,  1.62it/s]HTTP Error for GET to https://api.spotify.com/v1/search with Params: {'q': 'ben folds presents: the sacramento state jazz singers selfless, cold and composed  university a cappella version', 'limit': 10, 'offset': 0, 'type': 'track', 'market': None} returned 404 due to Not found.\n",
      "HTTP Error for GET to https://api.spotify.com/v1/search with Params: {'q': 'ben folds presents: the sacramento state jazz singers selfless, cold and composed  university a cappella version', 'limit': 10, 'offset': 0, 'type': 'track', 'market': None} returned 404 due to Not found.\n",
      " 87%|████████████████████████████████████████████████████████████████████████████████████████████████              | 7801/8931 [48:26<05:32,  3.40it/s]HTTP Error for GET to https://api.spotify.com/v1/search with Params: {'q': 'prince \"eye\" no, alphabet st., glam slam, anna stesia, dance on, lovesexy, when 2r in love, i wish u heaven, positivity', 'limit': 10, 'offset': 0, 'type': 'track', 'market': None} returned 404 due to Not found.\n",
      "HTTP Error for GET to https://api.spotify.com/v1/search with Params: {'q': 'prince \"eye\" no, alphabet st., glam slam, anna stesia, dance on, lovesexy, when 2r in love, i wish u heaven, positivity', 'limit': 10, 'offset': 0, 'type': 'track', 'market': None} returned 404 due to Not found.\n",
      "100%|██████████████████████████████████████████████████████████████████████████████████████████████████████████████| 8931/8931 [55:05<00:00,  2.70it/s]\n"
     ]
    }
   ],
   "source": [
    "df = df[start+1:]\n",
    "pbar = tqdm(df.iterrows(), total=len(df))\n",
    "for idx, row in pbar:\n",
    "    info = search_clean_version(row)\n",
    "    with open(savepath, \"a\") as wf:\n",
    "        wf.write(info)"
   ]
  },
  {
   "cell_type": "code",
   "execution_count": null,
   "id": "7b72c5e0",
   "metadata": {},
   "outputs": [],
   "source": [
    "sp.search(\"brockhampton\")"
   ]
  },
  {
   "cell_type": "code",
   "execution_count": null,
   "id": "dcc1ddee",
   "metadata": {},
   "outputs": [],
   "source": []
  }
 ],
 "metadata": {
  "kernelspec": {
   "display_name": "Python 3 (ipykernel)",
   "language": "python",
   "name": "python3"
  },
  "language_info": {
   "codemirror_mode": {
    "name": "ipython",
    "version": 3
   },
   "file_extension": ".py",
   "mimetype": "text/x-python",
   "name": "python",
   "nbconvert_exporter": "python",
   "pygments_lexer": "ipython3",
   "version": "3.7.6"
  }
 },
 "nbformat": 4,
 "nbformat_minor": 5
}
