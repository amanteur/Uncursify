{
 "cells": [
  {
   "cell_type": "code",
   "execution_count": 30,
   "metadata": {
    "pycharm": {
     "name": "#%%\n"
    }
   },
   "outputs": [],
   "source": [
    "import os\n",
    "import matplotlib.pyplot\n",
    "import pandas as pd\n",
    "import json\n",
    "from glob import glob\n",
    "from tqdm import tqdm"
   ]
  },
  {
   "cell_type": "code",
   "execution_count": 33,
   "metadata": {},
   "outputs": [],
   "source": [
    "path = \"D:\\projects\\ProfanityFilter\\spotify_million_playlist_dataset\\data\\*\"\n",
    "csv_path = \"D:\\projects\\ProfanityFilter\\spotify_songs.csv\""
   ]
  },
  {
   "cell_type": "code",
   "execution_count": 32,
   "metadata": {},
   "outputs": [
    {
     "name": "stderr",
     "output_type": "stream",
     "text": [
      "100%|██████████| 1000/1000 [09:52<00:00,  1.69it/s]\n"
     ]
    }
   ],
   "source": [
    "tracks = []\n",
    "tracks_uris = set()\n",
    "for p in tqdm(glob(path)):\n",
    "    json_data = open(p, 'r')\n",
    "    data = json.load(json_data)\n",
    "    for playlist in data[\"playlists\"]:\n",
    "        for track in playlist[\"tracks\"]:\n",
    "            track_uri = track[\"track_uri\"]\n",
    "            track_name = track[\"track_name\"]\n",
    "            artist_name = track[\"artist_name\"]\n",
    "            if track[\"track_uri\"] in tracks_uris:\n",
    "                continue\n",
    "            else:\n",
    "                tracks.append((track_uri, track_name, artist_name))\n",
    "                tracks_uris.add(track_uri)"
   ]
  },
  {
   "cell_type": "code",
   "execution_count": 34,
   "metadata": {},
   "outputs": [],
   "source": [
    "df = pd.DataFrame(tracks, columns=[\"uri\", \"title\", \"artist\"])"
   ]
  },
  {
   "cell_type": "code",
   "execution_count": 37,
   "metadata": {},
   "outputs": [],
   "source": [
    "df.to_csv(csv_path, index=False)"
   ]
  },
  {
   "cell_type": "code",
   "execution_count": 2,
   "metadata": {},
   "outputs": [
    {
     "data": {
      "text/html": [
       "<div>\n",
       "<style scoped>\n",
       "    .dataframe tbody tr th:only-of-type {\n",
       "        vertical-align: middle;\n",
       "    }\n",
       "\n",
       "    .dataframe tbody tr th {\n",
       "        vertical-align: top;\n",
       "    }\n",
       "\n",
       "    .dataframe thead th {\n",
       "        text-align: right;\n",
       "    }\n",
       "</style>\n",
       "<table border=\"1\" class=\"dataframe\">\n",
       "  <thead>\n",
       "    <tr style=\"text-align: right;\">\n",
       "      <th></th>\n",
       "      <th>uri</th>\n",
       "      <th>title</th>\n",
       "      <th>artist</th>\n",
       "      <th>explicit</th>\n",
       "    </tr>\n",
       "  </thead>\n",
       "  <tbody>\n",
       "    <tr>\n",
       "      <th>0</th>\n",
       "      <td>spotify:track:0UaMYEvWZi0ZqiDOoHU3YI</td>\n",
       "      <td>Lose Control (feat. Ciara &amp; Fat Man Scoop)</td>\n",
       "      <td>Missy Elliott</td>\n",
       "      <td>0</td>\n",
       "    </tr>\n",
       "    <tr>\n",
       "      <th>1</th>\n",
       "      <td>spotify:track:6I9VzXrHxO9rA9A5euc8Ak</td>\n",
       "      <td>Toxic</td>\n",
       "      <td>Britney Spears</td>\n",
       "      <td>0</td>\n",
       "    </tr>\n",
       "    <tr>\n",
       "      <th>2</th>\n",
       "      <td>spotify:track:0WqIKmW4BTrj3eJFmnCKMv</td>\n",
       "      <td>Crazy In Love</td>\n",
       "      <td>Beyoncé</td>\n",
       "      <td>0</td>\n",
       "    </tr>\n",
       "    <tr>\n",
       "      <th>3</th>\n",
       "      <td>spotify:track:1AWQoqb9bSvzTjaLralEkT</td>\n",
       "      <td>Rock Your Body</td>\n",
       "      <td>Justin Timberlake</td>\n",
       "      <td>0</td>\n",
       "    </tr>\n",
       "    <tr>\n",
       "      <th>4</th>\n",
       "      <td>spotify:track:1lzr43nnXAijIGYnCT8M8H</td>\n",
       "      <td>It Wasn't Me</td>\n",
       "      <td>Shaggy</td>\n",
       "      <td>0</td>\n",
       "    </tr>\n",
       "    <tr>\n",
       "      <th>...</th>\n",
       "      <td>...</td>\n",
       "      <td>...</td>\n",
       "      <td>...</td>\n",
       "      <td>...</td>\n",
       "    </tr>\n",
       "    <tr>\n",
       "      <th>2262287</th>\n",
       "      <td>spotify:track:2aOoiTTV0OR8DYxCk8o0JR</td>\n",
       "      <td>Forevermind - Pax217 Album Version</td>\n",
       "      <td>Pax217</td>\n",
       "      <td>0</td>\n",
       "    </tr>\n",
       "    <tr>\n",
       "      <th>2262288</th>\n",
       "      <td>spotify:track:1Uo65qTxnCg1N1X00lgcjr</td>\n",
       "      <td>Shalom - Pax217 Album Version</td>\n",
       "      <td>Pax217</td>\n",
       "      <td>0</td>\n",
       "    </tr>\n",
       "    <tr>\n",
       "      <th>2262289</th>\n",
       "      <td>spotify:track:5uEE5tii66I0cC7kZ7IMxE</td>\n",
       "      <td>Free To Be - Pax217 Album Version</td>\n",
       "      <td>Pax217</td>\n",
       "      <td>0</td>\n",
       "    </tr>\n",
       "    <tr>\n",
       "      <th>2262290</th>\n",
       "      <td>spotify:track:6A1RfnrMdxb24OYllzzTUX</td>\n",
       "      <td>Skwid - Pax217 Album Version</td>\n",
       "      <td>Pax217</td>\n",
       "      <td>0</td>\n",
       "    </tr>\n",
       "    <tr>\n",
       "      <th>2262291</th>\n",
       "      <td>spotify:track:5DvykFHB6utG6Hozpt5eNK</td>\n",
       "      <td>Running Thin</td>\n",
       "      <td>Straw Theory</td>\n",
       "      <td>0</td>\n",
       "    </tr>\n",
       "  </tbody>\n",
       "</table>\n",
       "<p>2262292 rows × 4 columns</p>\n",
       "</div>"
      ],
      "text/plain": [
       "                                          uri  \\\n",
       "0        spotify:track:0UaMYEvWZi0ZqiDOoHU3YI   \n",
       "1        spotify:track:6I9VzXrHxO9rA9A5euc8Ak   \n",
       "2        spotify:track:0WqIKmW4BTrj3eJFmnCKMv   \n",
       "3        spotify:track:1AWQoqb9bSvzTjaLralEkT   \n",
       "4        spotify:track:1lzr43nnXAijIGYnCT8M8H   \n",
       "...                                       ...   \n",
       "2262287  spotify:track:2aOoiTTV0OR8DYxCk8o0JR   \n",
       "2262288  spotify:track:1Uo65qTxnCg1N1X00lgcjr   \n",
       "2262289  spotify:track:5uEE5tii66I0cC7kZ7IMxE   \n",
       "2262290  spotify:track:6A1RfnrMdxb24OYllzzTUX   \n",
       "2262291  spotify:track:5DvykFHB6utG6Hozpt5eNK   \n",
       "\n",
       "                                              title             artist  \\\n",
       "0        Lose Control (feat. Ciara & Fat Man Scoop)      Missy Elliott   \n",
       "1                                             Toxic     Britney Spears   \n",
       "2                                     Crazy In Love            Beyoncé   \n",
       "3                                    Rock Your Body  Justin Timberlake   \n",
       "4                                      It Wasn't Me             Shaggy   \n",
       "...                                             ...                ...   \n",
       "2262287          Forevermind - Pax217 Album Version             Pax217   \n",
       "2262288               Shalom - Pax217 Album Version             Pax217   \n",
       "2262289           Free To Be - Pax217 Album Version             Pax217   \n",
       "2262290                Skwid - Pax217 Album Version             Pax217   \n",
       "2262291                                Running Thin       Straw Theory   \n",
       "\n",
       "         explicit  \n",
       "0               0  \n",
       "1               0  \n",
       "2               0  \n",
       "3               0  \n",
       "4               0  \n",
       "...           ...  \n",
       "2262287         0  \n",
       "2262288         0  \n",
       "2262289         0  \n",
       "2262290         0  \n",
       "2262291         0  \n",
       "\n",
       "[2262292 rows x 4 columns]"
      ]
     },
     "execution_count": 2,
     "metadata": {},
     "output_type": "execute_result"
    }
   ],
   "source": [
    "import pandas as pd \n",
    "\n",
    "csv_path = \"D:\\projects\\ProfanityFilter\\spotify_songs.csv\"\n",
    "df = pd.read_csv(csv_path)\n",
    "df"
   ]
  }
 ],
 "metadata": {
  "kernelspec": {
   "display_name": "Python 3 (ipykernel)",
   "language": "python",
   "name": "python3"
  },
  "language_info": {
   "codemirror_mode": {
    "name": "ipython",
    "version": 3
   },
   "file_extension": ".py",
   "mimetype": "text/x-python",
   "name": "python",
   "nbconvert_exporter": "python",
   "pygments_lexer": "ipython3",
   "version": "3.7.6"
  }
 },
 "nbformat": 4,
 "nbformat_minor": 1
}
