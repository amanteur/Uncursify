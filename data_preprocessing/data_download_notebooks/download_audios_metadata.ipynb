{
 "cells": [
  {
   "cell_type": "code",
   "execution_count": 25,
   "id": "b51c8843",
   "metadata": {},
   "outputs": [],
   "source": [
    "import os\n",
    "import matplotlib.pyplot\n",
    "import pandas as pd\n",
    "import json\n",
    "from glob import glob\n",
    "from tqdm import tqdm\n",
    "import requests\n",
    "import subprocess\n",
    "import yt_dlp\n",
    "tqdm.pandas()"
   ]
  },
  {
   "cell_type": "code",
   "execution_count": 26,
   "id": "c4a80ccb",
   "metadata": {},
   "outputs": [],
   "source": [
    "csv_path = \"D:\\projects\\ProfanityFilter\\explicits\\songs_info_explicit.csv\"\n",
    "csv_expl_path = \"D:\\projects\\ProfanityFilter\\explicits\\explicits_with_two_versions.txt\"\n",
    "df_main = pd.read_csv(csv_path)\n",
    "df_explicit = pd.read_csv(csv_expl_path, names=[\"uri\", \"has_clean\", \"clean_uri\", \"expl_dur\", \"clean_dur\"])"
   ]
  },
  {
   "cell_type": "code",
   "execution_count": 27,
   "id": "dc0c43ce",
   "metadata": {},
   "outputs": [],
   "source": [
    "df = pd.merge(df_main, df_explicit, right_on=\"uri\", left_on=\"uri\", how='outer')"
   ]
  },
  {
   "cell_type": "code",
   "execution_count": 28,
   "id": "5c894bf0",
   "metadata": {},
   "outputs": [
    {
     "data": {
      "text/plain": [
       "(13235, 11)"
      ]
     },
     "execution_count": 28,
     "metadata": {},
     "output_type": "execute_result"
    }
   ],
   "source": [
    "df[df.has_clean==True].shape"
   ]
  },
  {
   "cell_type": "code",
   "execution_count": 29,
   "id": "7155c8ce",
   "metadata": {},
   "outputs": [
    {
     "data": {
      "text/plain": [
       "13234"
      ]
     },
     "execution_count": 29,
     "metadata": {},
     "output_type": "execute_result"
    }
   ],
   "source": [
    "df_clean = df[df.has_clean==True]\n",
    "df_clean.reset_index(drop=True, inplace=True)\n",
    "last_uri = open(\"D:\\projects\\ProfanityFilter\\explicits\\youtube_links_new.txt\").read().splitlines()[-1].split(\",\")[0]\n",
    "start = df_clean[df_clean.uri==last_uri].index.item()\n",
    "df_clean = df_clean[start+1:]\n",
    "start"
   ]
  },
  {
   "cell_type": "code",
   "execution_count": 30,
   "id": "bf43fb06",
   "metadata": {},
   "outputs": [
    {
     "data": {
      "text/html": [
       "<div>\n",
       "<style scoped>\n",
       "    .dataframe tbody tr th:only-of-type {\n",
       "        vertical-align: middle;\n",
       "    }\n",
       "\n",
       "    .dataframe tbody tr th {\n",
       "        vertical-align: top;\n",
       "    }\n",
       "\n",
       "    .dataframe thead th {\n",
       "        text-align: right;\n",
       "    }\n",
       "</style>\n",
       "<table border=\"1\" class=\"dataframe\">\n",
       "  <thead>\n",
       "    <tr style=\"text-align: right;\">\n",
       "      <th></th>\n",
       "      <th>uri</th>\n",
       "      <th>title</th>\n",
       "      <th>artist</th>\n",
       "      <th>explicit</th>\n",
       "      <th>popularity</th>\n",
       "      <th>isrc</th>\n",
       "      <th>artists_uri</th>\n",
       "      <th>has_clean</th>\n",
       "      <th>clean_uri</th>\n",
       "      <th>expl_dur</th>\n",
       "      <th>clean_dur</th>\n",
       "    </tr>\n",
       "  </thead>\n",
       "  <tbody>\n",
       "  </tbody>\n",
       "</table>\n",
       "</div>"
      ],
      "text/plain": [
       "Empty DataFrame\n",
       "Columns: [uri, title, artist, explicit, popularity, isrc, artists_uri, has_clean, clean_uri, expl_dur, clean_dur]\n",
       "Index: []"
      ]
     },
     "execution_count": 30,
     "metadata": {},
     "output_type": "execute_result"
    }
   ],
   "source": [
    "df_clean"
   ]
  },
  {
   "cell_type": "code",
   "execution_count": 31,
   "id": "801ba675",
   "metadata": {},
   "outputs": [],
   "source": [
    "def save_youtube_info(*data):\n",
    "    with open(\"D:\\projects\\ProfanityFilter\\explicits\\youtube_links_new.txt\", \"a\", encoding=\"utf-8\") as wf:\n",
    "        line = ','.join(list(map(str, data)))\n",
    "        wf.write(line +'\\n')"
   ]
  },
  {
   "cell_type": "code",
   "execution_count": 32,
   "id": "b664e4bc",
   "metadata": {},
   "outputs": [
    {
     "name": "stderr",
     "output_type": "stream",
     "text": [
      "0it [00:00, ?it/s]\n"
     ]
    }
   ],
   "source": [
    "params1 = \"\"\n",
    "params2 = \"intitle:clean\"\n",
    "yt_dlp_params = {\n",
    "    \"quiet\": True,\n",
    "    \"retries\": 10,\n",
    "#     \"age_limit\": 16,\n",
    "    \"ignoreerrors\":True,\n",
    "}\n",
    "with yt_dlp.YoutubeDL(yt_dlp_params) as yt:\n",
    "\n",
    "    for i, row in tqdm(df_clean.iterrows(), total=len(df_clean)):\n",
    "        artist = row.artist\n",
    "        title = row.title\n",
    "        duration = row.expl_dur / 1000\n",
    "        q1 = f'ytsearch1:intitle:\"{title}\" {artist}, audio {params1}'\n",
    "        q2 = f'ytsearch3:intitle:\"{title}\" {artist}, audio {params2}'\n",
    "        r1 = yt.extract_info(q1, download=False)\n",
    "        expl_id, expl_title, expl_dur = '', '', duration\n",
    "        if \"entries\" in r1:\n",
    "            for r in r1[\"entries\"]:\n",
    "                if r[\"duration\"] < 600:\n",
    "                    expl_id, expl_title, expl_dur = r[\"id\"], r[\"title\"], r[\"duration\"]\n",
    "        clean_id, clean_title, clean_dur = '', '', ''\n",
    "        r2 = yt.extract_info(q2, download=False)\n",
    "        if \"entries\" in r2:\n",
    "            for r in r2[\"entries\"]:\n",
    "                if r is not None and abs(r[\"duration\"] - expl_dur) < 5:\n",
    "                    clean_id, clean_title, clean_dur = r[\"id\"], r[\"title\"], r[\"duration\"]\n",
    "                    break\n",
    "        save_youtube_info(row.uri, expl_id, clean_id, expl_dur, clean_dur)"
   ]
  },
  {
   "cell_type": "code",
   "execution_count": null,
   "id": "f9c39ccf",
   "metadata": {},
   "outputs": [],
   "source": []
  }
 ],
 "metadata": {
  "kernelspec": {
   "display_name": "Python 3 (ipykernel)",
   "language": "python",
   "name": "python3"
  },
  "language_info": {
   "codemirror_mode": {
    "name": "ipython",
    "version": 3
   },
   "file_extension": ".py",
   "mimetype": "text/x-python",
   "name": "python",
   "nbconvert_exporter": "python",
   "pygments_lexer": "ipython3",
   "version": "3.7.6"
  }
 },
 "nbformat": 4,
 "nbformat_minor": 5
}
