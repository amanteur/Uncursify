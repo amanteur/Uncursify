{
 "cells": [
  {
   "cell_type": "code",
   "execution_count": 1,
   "id": "3bc394d4",
   "metadata": {},
   "outputs": [],
   "source": [
    "import os\n",
    "import matplotlib.pyplot\n",
    "import pandas as pd\n",
    "import json\n",
    "from glob import glob\n",
    "from tqdm import tqdm\n",
    "import spotipy\n",
    "from spotipy.oauth2 import SpotifyClientCredentials\n",
    "import requests\n",
    "tqdm.pandas()"
   ]
  },
  {
   "cell_type": "code",
   "execution_count": 2,
   "id": "4c222b6d",
   "metadata": {},
   "outputs": [],
   "source": [
    "my_client_id = '4e9cf9cac4224e51b29649eb1ed2b916'\n",
    "my_secret = '39313a32359e4963aa309b38b46c83fc'\n",
    "\n",
    "aslan_client_id = '7e5000408e924c139e2f9ec522b3a012'\n",
    "aslan_secret = '0ff1dc59346749068311a782ce80f7ca'\n",
    "\n",
    "beka_client_id = 'fe22241e50584325acafcafc80a77adc'\n",
    "beka_secret = 'e94196def67c46179f130e1800d134a6'"
   ]
  },
  {
   "cell_type": "code",
   "execution_count": 3,
   "id": "563526eb",
   "metadata": {},
   "outputs": [
    {
     "name": "stdout",
     "output_type": "stream",
     "text": [
      "env: SPOTIPY_CLIENT_ID=fe22241e50584325acafcafc80a77adc\n",
      "env: SPOTIPY_CLIENT_SECRET=e94196def67c46179f130e1800d134a6\n"
     ]
    }
   ],
   "source": [
    "%env SPOTIPY_CLIENT_ID=fe22241e50584325acafcafc80a77adc\n",
    "%env SPOTIPY_CLIENT_SECRET=e94196def67c46179f130e1800d134a6"
   ]
  },
  {
   "cell_type": "code",
   "execution_count": 4,
   "id": "639c72c5",
   "metadata": {},
   "outputs": [],
   "source": [
    "csv_path = \"D:\\projects\\ProfanityFilter\\spotify_songs.csv\"\n",
    "df = pd.read_csv(csv_path)\n",
    "sp = spotipy.Spotify(\n",
    "    auth_manager=SpotifyClientCredentials(),\n",
    "    requests_timeout=20, \n",
    "    retries=10\n",
    ")"
   ]
  },
  {
   "cell_type": "markdown",
   "id": "51ea8ef4",
   "metadata": {},
   "source": [
    "# Find info about songs"
   ]
  },
  {
   "cell_type": "code",
   "execution_count": 5,
   "id": "7951a594",
   "metadata": {},
   "outputs": [],
   "source": [
    "def create_batch_df(df, batch_size, start):\n",
    "    start_indices = range(start, len(df), batch_size);\n",
    "    for s in start_indices:\n",
    "        yield df[s:s+batch_size]\n",
    "        \n",
    "def find_tracks_explicit(tracks):\n",
    "    info = sp.tracks(tracks)\n",
    "    info_list = []\n",
    "    for tr in info[\"tracks\"]:\n",
    "        if tr is not None:\n",
    "            artists_uris = \"|\".join([a[\"uri\"] for a in tr[\"artists\"]])\n",
    "            isrc = tr[\"external_ids\"][\"isrc\"] if \"isrc\" in tr[\"external_ids\"] else \"\"\n",
    "            explicit = tr[\"explicit\"] if \"explicit\" in tr else False\n",
    "            info_instance = (\n",
    "                tr[\"uri\"],\n",
    "                explicit,\n",
    "                tr[\"popularity\"],\n",
    "                isrc,\n",
    "                artists_uris\n",
    "            )\n",
    "            info_list.append(list(map(str, info_instance)))\n",
    "        else:\n",
    "            info_list.append([\"\",\"\",\"\",\"\",\"\"])\n",
    "    return info_list\n",
    "\n",
    "def save_to_file(savepath, ids, infos):\n",
    "    with open(savepath, \"a\", encoding=\"utf-8\") as wf:\n",
    "        for i, infos in zip(ids, infos):\n",
    "            els = [str(i)] + infos\n",
    "            line = ','.join(els) + '\\n'\n",
    "            wf.write(line)\n",
    "    return None\n",
    "\n",
    "def find_explicit_songs(\n",
    "    df, \n",
    "    bs=50, \n",
    "    start=0,\n",
    "    savepath=\"D:\\projects\\ProfanityFilter\\explicits\\songs_info.txt\"\n",
    "):\n",
    "    total = int((len(df) - start)/bs)\n",
    "    pbar = tqdm(create_batch_df(df, bs, start), total=total)\n",
    "    for i, b in enumerate(pbar):\n",
    "        ids = b.index.tolist()\n",
    "        uris = b[\"uri\"].tolist()\n",
    "        info_list = find_tracks_explicit(uris)\n",
    "        save_to_file(savepath, ids, info_list)\n",
    "    return ids[-1]\n",
    "\n",
    "def find_last_idx(\n",
    "    savepath=\"D:\\projects\\ProfanityFilter\\explicits\\songs_info.txt\"\n",
    "):\n",
    "    if not os.path.isfile(savepath):\n",
    "        return 0\n",
    "    idx = open(savepath).readlines()[-1].split(\",\")[0]\n",
    "    return int(idx)"
   ]
  },
  {
   "cell_type": "code",
   "execution_count": 6,
   "id": "aee92b34",
   "metadata": {},
   "outputs": [
    {
     "data": {
      "text/plain": [
       "1249259"
      ]
     },
     "execution_count": 6,
     "metadata": {},
     "output_type": "execute_result"
    }
   ],
   "source": [
    "find_last_idx()"
   ]
  },
  {
   "cell_type": "code",
   "execution_count": 7,
   "id": "c8def7ab",
   "metadata": {},
   "outputs": [
    {
     "name": "stderr",
     "output_type": "stream",
     "text": [
      "20261it [1:09:11,  4.88it/s]                                                                                                                           \n"
     ]
    },
    {
     "data": {
      "text/plain": [
       "2262291"
      ]
     },
     "execution_count": 7,
     "metadata": {},
     "output_type": "execute_result"
    }
   ],
   "source": [
    "last_idx = find_last_idx()\n",
    "find_explicit_songs(df, start=last_idx, bs=50)"
   ]
  },
  {
   "cell_type": "code",
   "execution_count": null,
   "id": "3c112f14",
   "metadata": {},
   "outputs": [],
   "source": []
  }
 ],
 "metadata": {
  "kernelspec": {
   "display_name": "Python 3 (ipykernel)",
   "language": "python",
   "name": "python3"
  },
  "language_info": {
   "codemirror_mode": {
    "name": "ipython",
    "version": 3
   },
   "file_extension": ".py",
   "mimetype": "text/x-python",
   "name": "python",
   "nbconvert_exporter": "python",
   "pygments_lexer": "ipython3",
   "version": "3.7.6"
  }
 },
 "nbformat": 4,
 "nbformat_minor": 5
}