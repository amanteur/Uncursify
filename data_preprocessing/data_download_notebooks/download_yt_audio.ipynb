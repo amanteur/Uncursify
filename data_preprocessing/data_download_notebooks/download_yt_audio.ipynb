{
 "cells": [
  {
   "cell_type": "code",
   "execution_count": 2,
   "id": "d6b86137",
   "metadata": {},
   "outputs": [],
   "source": [
    "import pandas as pd\n",
    "import os"
   ]
  },
  {
   "cell_type": "code",
   "execution_count": 3,
   "id": "2a321d6b",
   "metadata": {},
   "outputs": [
    {
     "data": {
      "text/plain": [
       "(2413, 5)"
      ]
     },
     "execution_count": 3,
     "metadata": {},
     "output_type": "execute_result"
    }
   ],
   "source": [
    "csv_explicits_two_versions_yt_links = \"D:\\projects\\ProfanityFilter\\explicits\\youtube_links_new.txt\"\n",
    "df = pd.read_csv(csv_explicits_two_versions_yt_links, \n",
    "                 names=[\"uri\", \"ytid\", \"ytid_clean\", \"dur_yt\", \"dur_yt_clean\"])\n",
    "df = df.dropna()\n",
    "df.shape"
   ]
  },
  {
   "cell_type": "code",
   "execution_count": 4,
   "id": "1875830d",
   "metadata": {},
   "outputs": [],
   "source": [
    "df = df.drop_duplicates(subset=[\"ytid\"])\n",
    "df = df.drop_duplicates(subset=[\"ytid_clean\"])\n",
    "df = df.drop_duplicates(subset=[\"uri\"])"
   ]
  },
  {
   "cell_type": "code",
   "execution_count": 5,
   "id": "778fc49c",
   "metadata": {},
   "outputs": [
    {
     "data": {
      "text/html": [
       "<div>\n",
       "<style scoped>\n",
       "    .dataframe tbody tr th:only-of-type {\n",
       "        vertical-align: middle;\n",
       "    }\n",
       "\n",
       "    .dataframe tbody tr th {\n",
       "        vertical-align: top;\n",
       "    }\n",
       "\n",
       "    .dataframe thead th {\n",
       "        text-align: right;\n",
       "    }\n",
       "</style>\n",
       "<table border=\"1\" class=\"dataframe\">\n",
       "  <thead>\n",
       "    <tr style=\"text-align: right;\">\n",
       "      <th></th>\n",
       "      <th>uri</th>\n",
       "      <th>ytid</th>\n",
       "      <th>ytid_clean</th>\n",
       "      <th>dur_yt</th>\n",
       "      <th>dur_yt_clean</th>\n",
       "    </tr>\n",
       "  </thead>\n",
       "  <tbody>\n",
       "    <tr>\n",
       "      <th>0</th>\n",
       "      <td>spotify:track:3JvKfv6T31zO0ini8iNItO</td>\n",
       "      <td>9i_OWaiaF34</td>\n",
       "      <td>8vN0EMCjjP0</td>\n",
       "      <td>244.0</td>\n",
       "      <td>242.0</td>\n",
       "    </tr>\n",
       "    <tr>\n",
       "      <th>1</th>\n",
       "      <td>spotify:track:7lQ8MOhq6IN2w8EYcFNSUk</td>\n",
       "      <td>pyb13N80DZQ</td>\n",
       "      <td>6iUeFGPWHz0</td>\n",
       "      <td>291.0</td>\n",
       "      <td>290.0</td>\n",
       "    </tr>\n",
       "    <tr>\n",
       "      <th>2</th>\n",
       "      <td>spotify:track:3yfqSUWxFvZELEM4PmlwIR</td>\n",
       "      <td>BdfpV-cIkuA</td>\n",
       "      <td>L0V6jKCZ370</td>\n",
       "      <td>284.0</td>\n",
       "      <td>284.0</td>\n",
       "    </tr>\n",
       "    <tr>\n",
       "      <th>3</th>\n",
       "      <td>spotify:track:5TXDeTFVRVY7Cvt0Dw4vWW</td>\n",
       "      <td>CD_tD26E7k0</td>\n",
       "      <td>Ro32sQudsrY</td>\n",
       "      <td>121.0</td>\n",
       "      <td>120.0</td>\n",
       "    </tr>\n",
       "    <tr>\n",
       "      <th>4</th>\n",
       "      <td>spotify:track:7KA4W4McWYRpgf0fWsJZWB</td>\n",
       "      <td>1_OMDlzbIuM</td>\n",
       "      <td>AhvkKR0ero8</td>\n",
       "      <td>181.0</td>\n",
       "      <td>181.0</td>\n",
       "    </tr>\n",
       "    <tr>\n",
       "      <th>...</th>\n",
       "      <td>...</td>\n",
       "      <td>...</td>\n",
       "      <td>...</td>\n",
       "      <td>...</td>\n",
       "      <td>...</td>\n",
       "    </tr>\n",
       "    <tr>\n",
       "      <th>13179</th>\n",
       "      <td>spotify:track:3Q8JrzlwciRk3j8M8UFQvr</td>\n",
       "      <td>LWycFKbNl9c</td>\n",
       "      <td>XnOrV_Bhnv0</td>\n",
       "      <td>206.0</td>\n",
       "      <td>206.0</td>\n",
       "    </tr>\n",
       "    <tr>\n",
       "      <th>13205</th>\n",
       "      <td>spotify:track:7FbfvVLCqraAf8iPG67cwn</td>\n",
       "      <td>AsHtIbOuBaw</td>\n",
       "      <td>AsHtIbOuBaw</td>\n",
       "      <td>177.0</td>\n",
       "      <td>177.0</td>\n",
       "    </tr>\n",
       "    <tr>\n",
       "      <th>13219</th>\n",
       "      <td>spotify:track:3rbuetJnPXr4ecigGVBDBo</td>\n",
       "      <td>Bw_yUjNZ4bI</td>\n",
       "      <td>dmhBewedJwg</td>\n",
       "      <td>206.0</td>\n",
       "      <td>205.0</td>\n",
       "    </tr>\n",
       "    <tr>\n",
       "      <th>13223</th>\n",
       "      <td>spotify:track:06K4y898EOm1CkKUwPOgNo</td>\n",
       "      <td>cVYtEUnqW_M</td>\n",
       "      <td>ungpJtM7-wg</td>\n",
       "      <td>192.0</td>\n",
       "      <td>189.0</td>\n",
       "    </tr>\n",
       "    <tr>\n",
       "      <th>13228</th>\n",
       "      <td>spotify:track:0RCKo1nnB3uimhhYiza2qF</td>\n",
       "      <td>XtGll30u_k0</td>\n",
       "      <td>Qa0-xWgqfdA</td>\n",
       "      <td>206.0</td>\n",
       "      <td>203.0</td>\n",
       "    </tr>\n",
       "  </tbody>\n",
       "</table>\n",
       "<p>2346 rows × 5 columns</p>\n",
       "</div>"
      ],
      "text/plain": [
       "                                        uri         ytid   ytid_clean  dur_yt  \\\n",
       "0      spotify:track:3JvKfv6T31zO0ini8iNItO  9i_OWaiaF34  8vN0EMCjjP0   244.0   \n",
       "1      spotify:track:7lQ8MOhq6IN2w8EYcFNSUk  pyb13N80DZQ  6iUeFGPWHz0   291.0   \n",
       "2      spotify:track:3yfqSUWxFvZELEM4PmlwIR  BdfpV-cIkuA  L0V6jKCZ370   284.0   \n",
       "3      spotify:track:5TXDeTFVRVY7Cvt0Dw4vWW  CD_tD26E7k0  Ro32sQudsrY   121.0   \n",
       "4      spotify:track:7KA4W4McWYRpgf0fWsJZWB  1_OMDlzbIuM  AhvkKR0ero8   181.0   \n",
       "...                                     ...          ...          ...     ...   \n",
       "13179  spotify:track:3Q8JrzlwciRk3j8M8UFQvr  LWycFKbNl9c  XnOrV_Bhnv0   206.0   \n",
       "13205  spotify:track:7FbfvVLCqraAf8iPG67cwn  AsHtIbOuBaw  AsHtIbOuBaw   177.0   \n",
       "13219  spotify:track:3rbuetJnPXr4ecigGVBDBo  Bw_yUjNZ4bI  dmhBewedJwg   206.0   \n",
       "13223  spotify:track:06K4y898EOm1CkKUwPOgNo  cVYtEUnqW_M  ungpJtM7-wg   192.0   \n",
       "13228  spotify:track:0RCKo1nnB3uimhhYiza2qF  XtGll30u_k0  Qa0-xWgqfdA   206.0   \n",
       "\n",
       "       dur_yt_clean  \n",
       "0             242.0  \n",
       "1             290.0  \n",
       "2             284.0  \n",
       "3             120.0  \n",
       "4             181.0  \n",
       "...             ...  \n",
       "13179         206.0  \n",
       "13205         177.0  \n",
       "13219         205.0  \n",
       "13223         189.0  \n",
       "13228         203.0  \n",
       "\n",
       "[2346 rows x 5 columns]"
      ]
     },
     "execution_count": 5,
     "metadata": {},
     "output_type": "execute_result"
    }
   ],
   "source": [
    "df"
   ]
  },
  {
   "cell_type": "code",
   "execution_count": 6,
   "id": "1f0c1b08",
   "metadata": {},
   "outputs": [],
   "source": [
    "expl_ids = df.ytid.values\n",
    "clean_ids = df.ytid_clean.values"
   ]
  },
  {
   "cell_type": "code",
   "execution_count": 7,
   "id": "b0229518",
   "metadata": {},
   "outputs": [],
   "source": [
    "def generate_query_list(ids, directory):\n",
    "    files = os.listdir(directory)\n",
    "    if not files:\n",
    "        return ids.tolist()\n",
    "    ids_set = set(ids)\n",
    "    for f in files:\n",
    "        if f.endswith(\".txt\"):\n",
    "            continue\n",
    "        name, _ = f.split(\".\")\n",
    "        if name in ids_set:\n",
    "            ids_set.remove(name)\n",
    "    return list(ids_set)"
   ]
  },
  {
   "cell_type": "code",
   "execution_count": 8,
   "id": "6ba7d191",
   "metadata": {},
   "outputs": [],
   "source": [
    "clean_dir = \"D:\\projects\\ProfanityFilter\\data\\\\raw_mp3\\clean\"\n",
    "q_clean = generate_query_list(clean_ids, clean_dir)\n",
    "with open(clean_dir + '\\ids.txt', 'w') as wf:\n",
    "    for l in q_clean:\n",
    "        wf.write(\"https://www.youtube.com/watch?v=\" + l + \"\\n\")"
   ]
  },
  {
   "cell_type": "code",
   "execution_count": 9,
   "id": "02e234f0",
   "metadata": {},
   "outputs": [],
   "source": [
    "expl_dir = \"D:\\projects\\ProfanityFilter\\data\\\\raw_mp3\\explicit\"\n",
    "q_expl = generate_query_list(expl_ids, expl_dir)\n",
    "with open(expl_dir + '\\ids.txt', 'w') as wf:\n",
    "    for l in q_expl:\n",
    "        wf.write(\"https://www.youtube.com/watch?v=\" + l + \"\\n\")        "
   ]
  },
  {
   "cell_type": "code",
   "execution_count": 10,
   "id": "c99d9ed6",
   "metadata": {},
   "outputs": [],
   "source": [
    "query1 = f\"yt-dlp -x --audio-format mp3 -a '{expl_dir}\\ids.txt' -o '%(id)s.%(ext)s'\""
   ]
  },
  {
   "cell_type": "code",
   "execution_count": null,
   "id": "e389545c",
   "metadata": {},
   "outputs": [],
   "source": []
  },
  {
   "cell_type": "code",
   "execution_count": null,
   "id": "fb35ac7e",
   "metadata": {},
   "outputs": [],
   "source": []
  }
 ],
 "metadata": {
  "kernelspec": {
   "display_name": "Python 3 (ipykernel)",
   "language": "python",
   "name": "python3"
  },
  "language_info": {
   "codemirror_mode": {
    "name": "ipython",
    "version": 3
   },
   "file_extension": ".py",
   "mimetype": "text/x-python",
   "name": "python",
   "nbconvert_exporter": "python",
   "pygments_lexer": "ipython3",
   "version": "3.7.6"
  }
 },
 "nbformat": 4,
 "nbformat_minor": 5
}
